{
 "cells": [
  {
   "cell_type": "code",
   "execution_count": 1,
   "id": "585c7534-7aca-4548-b4f8-a6fb5231d3b9",
   "metadata": {},
   "outputs": [
    {
     "name": "stdout",
     "output_type": "stream",
     "text": [
      "Regression line:\n",
      "Y = 5.685 + 0.863*X\n"
     ]
    }
   ],
   "source": [
    "def calculateB(x, y, n): \n",
    "\tsx = sum(x)\n",
    "\tsy = sum(y) \n",
    "\tsxsy = 0\n",
    "\tsx2 = 0\n",
    "\tfor i in range(n):\n",
    "\t\tsxsy += x[i] * y[i]\n",
    "\t\tsx2 += x[i] * x[i]\n",
    "\tb = (n * sxsy - sx * sy)/(n * sx2 - sx * sx)\n",
    "\treturn b\n",
    "\n",
    "def leastRegLine(X,Y,n):\n",
    "\tb = calculateB(X, Y, n)\n",
    "\tmeanX = int(sum(X)/n)\n",
    "\tmeanY = int(sum(Y)/n)\n",
    "\ta = meanY - b * meanX \n",
    "\tprint(\"Regression line:\")\n",
    "\tprint(\"Y = \", '%.3f'%a, \" + \", '%.3f'%b, \"*X\", sep=\"\")\n",
    "\n",
    "X = [95, 85, 80, 70, 60 ]\n",
    "Y = [90, 80, 70, 65, 60 ]\n",
    "n = len(X)\n",
    "leastRegLine(X, Y, n)"
   ]
  },
  {
   "cell_type": "code",
   "execution_count": null,
   "id": "d4855c31-23d1-4d72-b931-7eb873aa8ab6",
   "metadata": {},
   "outputs": [],
   "source": []
  }
 ],
 "metadata": {
  "kernelspec": {
   "display_name": "Python 3 (ipykernel)",
   "language": "python",
   "name": "python3"
  },
  "language_info": {
   "codemirror_mode": {
    "name": "ipython",
    "version": 3
   },
   "file_extension": ".py",
   "mimetype": "text/x-python",
   "name": "python",
   "nbconvert_exporter": "python",
   "pygments_lexer": "ipython3",
   "version": "3.12.7"
  }
 },
 "nbformat": 4,
 "nbformat_minor": 5
}
